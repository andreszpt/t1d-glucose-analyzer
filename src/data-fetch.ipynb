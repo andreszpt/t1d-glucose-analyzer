{
 "cells": [
  {
   "cell_type": "code",
   "execution_count": 2,
   "metadata": {},
   "outputs": [],
   "source": [
    "from datetime import datetime, timedelta\n",
    "from dotenv import load_dotenv\n",
    "import os\n",
    "import pandas as pd\n",
    "import requests"
   ]
  },
  {
   "attachments": {},
   "cell_type": "markdown",
   "metadata": {},
   "source": [
    "### Constants"
   ]
  },
  {
   "cell_type": "code",
   "execution_count": 3,
   "metadata": {},
   "outputs": [],
   "source": [
    "load_dotenv()\n",
    "\n",
    "# Nightscout related\n",
    "TOKEN = os.getenv('NS_TOKEN')\n",
    "URL = os.getenv('NS_URL')\n",
    "\n",
    "# Other\n",
    "START_DATE = datetime(2024, 4, 1)"
   ]
  },
  {
   "attachments": {},
   "cell_type": "markdown",
   "metadata": {},
   "source": [
    "### SGVs"
   ]
  },
  {
   "cell_type": "code",
   "execution_count": 4,
   "metadata": {},
   "outputs": [],
   "source": [
    "time = START_DATE\n",
    "sgvs = pd.DataFrame()\n",
    "\n",
    "while (time < datetime.now()):\n",
    "    t = int(time.timestamp())\n",
    "    url = f'{URL}/api/v3/entries/history/{t}?token={TOKEN}'\n",
    "    response = requests.get(url)\n",
    "    if response.status_code == 200:\n",
    "        data = response.json()\n",
    "        new_df = pd.DataFrame(data['result'])\n",
    "        sgvs = pd.concat([sgvs, new_df])\n",
    "        sgvs = sgvs.drop_duplicates()\n",
    "        time = time + timedelta(days=2)\n",
    "    else:\n",
    "        print(f\"Req error: {response.status_code}\")"
   ]
  },
  {
   "cell_type": "code",
   "execution_count": 5,
   "metadata": {},
   "outputs": [],
   "source": [
    "sgvs.to_csv('../data/raw/sgvs.csv', index=False)"
   ]
  },
  {
   "attachments": {},
   "cell_type": "markdown",
   "metadata": {},
   "source": [
    "### Treatments"
   ]
  },
  {
   "cell_type": "code",
   "execution_count": 6,
   "metadata": {},
   "outputs": [],
   "source": [
    "time = START_DATE\n",
    "treatments = pd.DataFrame()\n",
    "\n",
    "while (time < datetime.now()):\n",
    "    t = int(time.timestamp())\n",
    "    url = f'{URL}/api/v3/treatments/history/{t}?token={TOKEN}'\n",
    "    response = requests.get(url)\n",
    "    if response.status_code == 200:\n",
    "        data = response.json()\n",
    "        new_df = pd.DataFrame(data['result'])\n",
    "        treatments = pd.concat([treatments, new_df])\n",
    "        treatments = treatments.drop_duplicates()\n",
    "        time = time + timedelta(weeks=1)\n",
    "    else:\n",
    "        print(f\"Req error: {response.status_code}\")"
   ]
  },
  {
   "cell_type": "code",
   "execution_count": 7,
   "metadata": {},
   "outputs": [],
   "source": [
    "treatments.to_csv('../data/raw/treatments.csv', index=False)"
   ]
  }
 ],
 "metadata": {
  "kernelspec": {
   "display_name": "main",
   "language": "python",
   "name": "python3"
  },
  "language_info": {
   "codemirror_mode": {
    "name": "ipython",
    "version": 3
   },
   "file_extension": ".py",
   "mimetype": "text/x-python",
   "name": "python",
   "nbconvert_exporter": "python",
   "pygments_lexer": "ipython3",
   "version": "3.12.3"
  },
  "orig_nbformat": 4
 },
 "nbformat": 4,
 "nbformat_minor": 2
}
