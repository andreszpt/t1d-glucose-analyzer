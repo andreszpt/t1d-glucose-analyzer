{
 "cells": [
  {
   "cell_type": "code",
   "execution_count": 121,
   "metadata": {},
   "outputs": [],
   "source": [
    "import datetime\n",
    "import pandas as pd"
   ]
  },
  {
   "attachments": {},
   "cell_type": "markdown",
   "metadata": {},
   "source": [
    "## SGVs"
   ]
  },
  {
   "cell_type": "code",
   "execution_count": 182,
   "metadata": {},
   "outputs": [],
   "source": [
    "sgvs = pd.read_csv('../data/raw/sgvs.csv')"
   ]
  },
  {
   "cell_type": "code",
   "execution_count": 183,
   "metadata": {},
   "outputs": [],
   "source": [
    "sgvs = sgvs.drop(['device', 'date', 'filtered', 'unfiltered', 'rssi', 'noise', 'sysTime', 'identifier', 'srvModified',\n",
    "                  'srvCreated', 'mbg', 'slope', 'intercept','scale', 'delta', 'direction', 'type'], axis=1).rename({'dateString': 'created_at'}, axis=1)"
   ]
  },
  {
   "cell_type": "code",
   "execution_count": 184,
   "metadata": {},
   "outputs": [],
   "source": [
    "sgvs['created_at'] = sgvs['created_at'].apply(datetime.datetime.fromisoformat) + pd.to_timedelta(sgvs['utcOffset'], 'm')\n",
    "sgvs = sgvs.drop(['utcOffset'], axis=1)"
   ]
  },
  {
   "cell_type": "code",
   "execution_count": 185,
   "metadata": {},
   "outputs": [],
   "source": [
    "sgvs['created_at'] = sgvs['created_at'].dt.round('5min')"
   ]
  },
  {
   "cell_type": "code",
   "execution_count": 186,
   "metadata": {},
   "outputs": [],
   "source": [
    "sgvs.to_csv('../data/processed/glucose.csv', index=False)"
   ]
  },
  {
   "attachments": {},
   "cell_type": "markdown",
   "metadata": {},
   "source": [
    "## Treatments"
   ]
  },
  {
   "cell_type": "code",
   "execution_count": 187,
   "metadata": {},
   "outputs": [],
   "source": [
    "treatments = pd.read_csv('../data/raw/treatments.csv')"
   ]
  },
  {
   "cell_type": "code",
   "execution_count": 188,
   "metadata": {},
   "outputs": [],
   "source": [
    "treatments = treatments.drop(['timestamp', 'enteredBy', 'sysTime', 'utcOffset', 'uuid', 'identifier', 'srvModified', 'srvCreated', 'app', 'subject', 'date', 'notes'], axis=1)"
   ]
  },
  {
   "cell_type": "code",
   "execution_count": 189,
   "metadata": {},
   "outputs": [],
   "source": [
    "treatments['created_at'] = treatments['created_at'].apply(datetime.datetime.fromisoformat) + pd.to_timedelta(2, 'h')\n"
   ]
  },
  {
   "cell_type": "code",
   "execution_count": 190,
   "metadata": {},
   "outputs": [],
   "source": [
    "treatments['created_at'] = treatments['created_at'].dt.round('5min')"
   ]
  },
  {
   "cell_type": "code",
   "execution_count": 191,
   "metadata": {},
   "outputs": [],
   "source": [
    "carbs = treatments[treatments['carbs'].notna()].drop(['insulin', 'duration', 'eventType'], axis=1)\n",
    "insulins = treatments[(treatments['insulin'].notna()) & (treatments['eventType'] != 'Basal')].drop(['carbs', 'duration', 'eventType'], axis=1)\n",
    "exercises = treatments[treatments['duration'].notna()].drop(['carbs', 'insulin', 'eventType'], axis=1)"
   ]
  },
  {
   "cell_type": "code",
   "execution_count": 192,
   "metadata": {},
   "outputs": [],
   "source": [
    "carbs.to_csv('../data/processed/carbs.csv', index=False)\n",
    "insulins.to_csv('../data/processed/insulins.csv', index=False)\n",
    "exercises.to_csv('../data/processed/exercises.csv', index=False)"
   ]
  }
 ],
 "metadata": {
  "kernelspec": {
   "display_name": "main-env",
   "language": "python",
   "name": "python3"
  },
  "language_info": {
   "codemirror_mode": {
    "name": "ipython",
    "version": 3
   },
   "file_extension": ".py",
   "mimetype": "text/x-python",
   "name": "python",
   "nbconvert_exporter": "python",
   "pygments_lexer": "ipython3",
   "version": "3.12.3"
  },
  "orig_nbformat": 4
 },
 "nbformat": 4,
 "nbformat_minor": 2
}
